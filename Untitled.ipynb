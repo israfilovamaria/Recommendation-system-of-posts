{
 "cells": [
  {
   "cell_type": "code",
   "execution_count": 92,
   "id": "1e5625d6",
   "metadata": {},
   "outputs": [],
   "source": [
    "import requests\n",
    "r = requests.get(\"http://127.0.0.1:8000/post/recommendations/\")"
   ]
  },
  {
   "cell_type": "code",
   "execution_count": 93,
   "id": "f8c98e93",
   "metadata": {},
   "outputs": [
    {
     "data": {
      "text/plain": [
       "'Internal Server Error'"
      ]
     },
     "execution_count": 93,
     "metadata": {},
     "output_type": "execute_result"
    }
   ],
   "source": [
    "r.text"
   ]
  },
  {
   "cell_type": "code",
   "execution_count": null,
   "id": "28d52321",
   "metadata": {},
   "outputs": [],
   "source": [
    ".group_by(Feed.post_id).order_by(func.count(Feed.post_id).desc())"
   ]
  }
 ],
 "metadata": {
  "kernelspec": {
   "display_name": "Python 3 (ipykernel)",
   "language": "python",
   "name": "python3"
  },
  "language_info": {
   "codemirror_mode": {
    "name": "ipython",
    "version": 3
   },
   "file_extension": ".py",
   "mimetype": "text/x-python",
   "name": "python",
   "nbconvert_exporter": "python",
   "pygments_lexer": "ipython3",
   "version": "3.9.7"
  }
 },
 "nbformat": 4,
 "nbformat_minor": 5
}
