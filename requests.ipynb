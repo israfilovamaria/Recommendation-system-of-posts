{
 "cells": [
  {
   "cell_type": "code",
   "execution_count": 1,
   "id": "1e5625d6",
   "metadata": {},
   "outputs": [],
   "source": [
    "import requests\n",
    "r = requests.get(\"http://127.0.0.1:8000/post/recommendations/\")"
   ]
  },
  {
   "cell_type": "code",
   "execution_count": 2,
   "id": "f8c98e93",
   "metadata": {},
   "outputs": [
    {
     "data": {
      "text/plain": [
       "'[{\"id\":4866,\"text\":\"It could have been a morbidly fascinating look at the life of one of Americas most notorious serial killers, but sadly it doesnt even come close. Terrible editing, direction, bad acting, you name it. This movie is literally about 10 minutes of plot stretched into 100. The only redeeming quality is Bruce Davidson as the father, but thats not nearly enough to save this stinker. A 1 out of 10.\",\"topic\":\"movie\"},{\"id\":5127,\"text\":\"Ive seen NSNA just after Ive seen all Roger Moore-films and I must say that it felt so good to see Connery again. He proves for all times that he is the one and only Bond.The film itself isnt really a masterpiece but it is really worth watching. The jokes sit much better here, the effects are funny and interesting, Connery is Connery and Brandauer is really a good villain. But von Sydow is just wasted and the score is not often good and there are a few scenes that seem pretty unnecessary.7/10 \\\\\\\\ 2.5/4 \\\\\\\\ 3+ (1+ - 6-)\",\"topic\":\"movie\"},{\"id\":6448,\"text\":\"No, Im not joking around. If you ever, EVER, have the chance to see this movie see it. If you need chop off your arm to see it, see it. Its worth it.Fatty Drives The Bus is unlike any film youve ever seen. It takes trash cinema and elevates it to a work of art. While it contains poor shots, idiotic characters, bad dialogue, strange acting, and cinematography that belongs on public access in Iowa, it actually succeeds in its goal as a film. It strives to be the dumbest, strangest, most inane movie youve ever seen. And boy does it ever succeed.I will lay out the plot for those of you who worry about such things (the filmmakers obviously didnt), but really you neednt pay too much attention because the entire films plot is presented in a very long piece of text played before the opening credits. In any event, FDTB (as its admirers call it) is the story of a bus tour through Chicago, which is led by Satan. You see, Jesus is in town, and all the passengers on the bus are supposed to die, and all their souls would have gone to hell, except with Jesus in town, a lackey in hell calls off the job, and this angers Satan because, well he doesnt like looking like a fool in front of the guy, so he decides to get the people on the bus to sign over their souls to him directly, but hes a devil, so he needs to disguise himself, otherwise, whod go on a tour with him right, so he disguises himself as Roger and he gets on the bus, where the driver is never referred to by name, but he is kind of fat, so I guess hes Fatty. The bus (and the riders) are on a collision course with wackiness!Examples of some lunacy: The title repeats on the screen 3 times. I dont know why. A character appears on the bus in mid-trip without explanation or introduction, and occassionally sits next to the others, and they look at her like she doesnt belong. I dont know why. Two characters fall in love and exchange longing glances, that are really the same shots repeated over and over again. I dont know why. After Satan gives a minute long monologue about transforming into human form a title card flashes Satan is going to transform. I dont know why. One character is a woman who is very obviously a man in drag, and is referred to by other characters as the glamorous Bridget. I dont know why.If there was one good thing that came out of my internship at Troma last summer it was getting my own copy of Fatty Drives The Bus.\",\"topic\":\"movie\"},{\"id\":6498,\"text\":\"As a matter of fact, this is one of those movies you would have to give 7.5 to. The fact is; as already stated, its a great deal of fun. Wonderfully atmospheric. Askey does indeed come across as over the top, but its a great vehicle for him, just as Oh, Mr Porter is for Will hay. If you like old dark house movies and trains, then this is definitely for you.Strangely enough its the kind of film that youll want to see again and again. Its friendly and charming in an endearing sort of way with all of the nostalgic references that made great wartime fare. The odd band of characters simply play off each other as they do in many another typical British wartime movie. It would have been wonderful to have seen this film if it had been recorded by Ealing studios . A real pity that the 1931 original has not survived intact\",\"topic\":\"movie\"},{\"id\":6513,\"text\":\"Rita Hayworth plays a Brooklyn nightclub dancer named Rusty who specializes in cheesecake chorus revues; she manages to get herself on the cover of a national fashion magazine, but her impending success as a solo (with romantic offers all around) has smitten boss Gene Kelly chomping at the bit. Terribly tired piece of Technicolor cotton candy, with unmemorable musical sketches (the two worst of which are irrelevant flashbacks to the 1890s, with Hayworth portraying her own grandmother). Kelly, as always, dances well but acts with false sincerity; when hes serious, hes insufferable, and the rest of the time hes flying on adrenaline. The script is a lead weight, not even giving supporting players Phil Silvers and Eve Arden any good lines. *1/2 from ****\",\"topic\":\"movie\"},{\"id\":3192,\"text\":\"With the KCCA #COVID19 Response Hub, you can track ambulance coverage, locate health Centres and get case updates—S… https://t.co/4zIhw300rN\",\"topic\":\"covid\"},{\"id\":6314,\"text\":\"I believe the reason this movie did not get the recognition it deserves is because of the many misconceptions of Darwin, pro and con. I would say the real man is depicted here without sterility. He is what he is. Although the movie is but a snapshot of the man the technique of storytelling expanded his life far beyond the years touched on in the movie. This is deep movie, a pondering of modern life and the way we think, and can provoke a study into the man whose thoughts (and other who used him) have certainly affected our lives. There are some movies that the historical context is so great that it is the primary job of the actors to stay out of the way. The history carried the day and the actors did their job. Good work to them, I say.\",\"topic\":\"movie\"},{\"id\":6864,\"text\":\"this is one of the finest movies i have ever seen....the stark scenery...the isolation...the ignorant bigoted people hiding behind their religion...a backdrop for some wordliness and sophistication...the acting is completely natural...but for me as afoodie the best is the actual choosing and preparation of the feast..i have spent time in paris and know the cuisine well...whether or not the cafe anglais really exists i dont know but i do know of similar establishments and babettes menu and choice of wines are authentic...and of course the end where despite themselves the perfect meal mellows them back to friendship is the only ending there could be..this is a 10 out of 10 film and should be seen by anyone with enough brain and taste to understand it\",\"topic\":\"movie\"},{\"id\":5413,\"text\":\"Im not here to tell you Armored is Kubrickian, Hitchcockian or Fellini-esquire. Nope. Referenced directors are more like Don Siegel (Charlie Varrick) and Walter Hill (The Warriors). Those two helmers didnt fool around with niceties like putting women in their movies. No skirts need apply. They unapologetically made guy movies. Guns, lots of guns. Men met violent death with a twitch of the jaw. Their movies were like a sap to the head. You want a friend? Get a dog.Armored is so a guy movie. Dueling armored trucks? Bloody gunshot wounds? Exploding money? If that doesnt get the lizard part of your brain excited, then stay away.At 88 minutes, Armored is all muscle without an ounce of fat. We meet six security guards who drive armored trucks, three per truck. The six, led by Matt Dillon, scheme up a fake hijack involving two trucks. Their mission one day is to deliver $42 million from the federal reserve (I think). The idea is to drive both trucks to a warehouse, stash the cash, then stage a hijack. Sure, the cops will suspect them, but if they stick together theyll get through it.Trouble is, one of the six, played by Columbus Short, is a holdout. At first. But he faces eviction. And hes the guardian for his messed up younger brother. He needs cash bad.Matt Dillon cajoles, pleads, persuades the holdout. No blood on anyones hands. A clean getaway. All good, no bad. Youll be rich forever. Blue skies smiling at you ...Right.Everything goes to hell, of course. Its one damned thing after another and the stakes keep going up. And it almost all happens claustrophobically inside an abandoned warehouse somewhere in Los Angeles. In fact, the movie goes out of its way to project a backdrop of industrial urban decay. I happen to like industrial urban decay.Kudos to Matt Dillon, who plays the top bad dog. He goes from charming to disappointed to frustrated to outraged to totally effing insane in the course of the movie. Love that guy.Also, credit is due to the menacing, throbbing, blistering and totally sinister electronic soundtrack by John Murphy. I am guessing hes heard a few Tangerine Dream records.Also, its surprising that this is a PG-13 movie. I caught one \\x97 one! \\x97 f-bomb in this entire movie about violent tough-guy robbers. On some level, I like that. Take the kids.The director is Nimrod Antal, a Hungarian who made a fine noir set in the Budapest subway system called Kontroll. Screenwriter is an out-of-nowhere guy called James V. Simpson.A lot of the people in this movie are just starting out. I am willing to bet the esteem given to this movie will rise as time goes on and these filmmakers advance in their careers.\",\"topic\":\"movie\"},{\"id\":5165,\"text\":\"This is just a case of a previously worthless island changed into something worthwhile. Jesus Christ people lets throw a big fit over 2000 islanders big deal.This is just a case of a previously worthless island changed into something worthwhile. Jesus Christ people lets throw a big fit over 2000 islanders big deal.This is just a case of a previously worthless island changed into something worthwhile. Jesus Christ people lets throw a big fit over 2000 islanders big deal.This is just a case of a previously worthless island changed into something worthwhile. Jesus Christ people lets throw a big fit over 2000 islanders big deal.\",\"topic\":\"movie\"}]'"
      ]
     },
     "execution_count": 2,
     "metadata": {},
     "output_type": "execute_result"
    }
   ],
   "source": [
    "r.text"
   ]
  },
  {
   "cell_type": "code",
   "execution_count": null,
   "id": "28d52321",
   "metadata": {},
   "outputs": [],
   "source": []
  }
 ],
 "metadata": {
  "kernelspec": {
   "display_name": "Python 3 (ipykernel)",
   "language": "python",
   "name": "python3"
  },
  "language_info": {
   "codemirror_mode": {
    "name": "ipython",
    "version": 3
   },
   "file_extension": ".py",
   "mimetype": "text/x-python",
   "name": "python",
   "nbconvert_exporter": "python",
   "pygments_lexer": "ipython3",
   "version": "3.9.7"
  }
 },
 "nbformat": 4,
 "nbformat_minor": 5
}
